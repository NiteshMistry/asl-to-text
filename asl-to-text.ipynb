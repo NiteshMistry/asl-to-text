{
  "nbformat": 4,
  "nbformat_minor": 0,
  "metadata": {
    "colab": {
      "name": "FinalModelSignLanguage.ipynb",
      "provenance": [],
      "collapsed_sections": []
    },
    "kernelspec": {
      "name": "python3",
      "display_name": "Python 3"
    }
  },
  "cells": [
    {
      "cell_type": "code",
      "metadata": {
        "id": "iv6nbnfp7RGT",
        "colab_type": "code",
        "outputId": "96761b8e-72ef-4b07-e3ab-6e8af9197f0b",
        "colab": {
          "base_uri": "https://localhost:8080/",
          "height": 700
        }
      },
      "source": [
        "import sys\n",
        "#!pip install google.cloud\n",
        "#!pip uninstall gcloud google-cloud\n",
        "#!pip install --upgrade google-cloud-automl\n",
        "#!pip install google.cloud.automl_v1beta1.proto"
      ],
      "execution_count": 0,
      "outputs": [
        {
          "output_type": "stream",
          "text": [
            "Collecting google.cloud\n",
            "  Downloading https://files.pythonhosted.org/packages/ba/b1/7c54d1950e7808df06642274e677dbcedba57f75307adf2e5ad8d39e5e0e/google_cloud-0.34.0-py2.py3-none-any.whl\n",
            "Installing collected packages: google.cloud\n",
            "Successfully installed google.cloud\n",
            "\u001b[33mWARNING: Skipping gcloud as it is not installed.\u001b[0m\n",
            "Uninstalling google-cloud-0.34.0:\n",
            "  Would remove:\n",
            "    /usr/local/lib/python3.6/dist-packages/google_cloud-0.34.0.dist-info/*\n",
            "Proceed (y/n)? y\n",
            "  Successfully uninstalled google-cloud-0.34.0\n",
            "Collecting google-cloud-automl\n",
            "\u001b[?25l  Downloading https://files.pythonhosted.org/packages/22/11/569b00b3eb4ce66d95f70f3c94f379d49eb8f34cd9dd4ba83576b9f38012/google_cloud_automl-0.7.1-py2.py3-none-any.whl (297kB)\n",
            "\u001b[K     |████████████████████████████████| 307kB 2.8MB/s \n",
            "\u001b[?25hRequirement already satisfied, skipping upgrade: google-api-core[grpc]<2.0.0dev,>=1.14.0 in /usr/local/lib/python3.6/dist-packages (from google-cloud-automl) (1.14.3)\n",
            "Requirement already satisfied, skipping upgrade: google-auth<2.0dev,>=0.4.0 in /usr/local/lib/python3.6/dist-packages (from google-api-core[grpc]<2.0.0dev,>=1.14.0->google-cloud-automl) (1.4.2)\n",
            "Requirement already satisfied, skipping upgrade: protobuf>=3.4.0 in /usr/local/lib/python3.6/dist-packages (from google-api-core[grpc]<2.0.0dev,>=1.14.0->google-cloud-automl) (3.10.0)\n",
            "Requirement already satisfied, skipping upgrade: googleapis-common-protos<2.0dev,>=1.6.0 in /usr/local/lib/python3.6/dist-packages (from google-api-core[grpc]<2.0.0dev,>=1.14.0->google-cloud-automl) (1.6.0)\n",
            "Requirement already satisfied, skipping upgrade: setuptools>=34.0.0 in /usr/local/lib/python3.6/dist-packages (from google-api-core[grpc]<2.0.0dev,>=1.14.0->google-cloud-automl) (41.4.0)\n",
            "Requirement already satisfied, skipping upgrade: six>=1.10.0 in /usr/local/lib/python3.6/dist-packages (from google-api-core[grpc]<2.0.0dev,>=1.14.0->google-cloud-automl) (1.12.0)\n",
            "Requirement already satisfied, skipping upgrade: requests<3.0.0dev,>=2.18.0 in /usr/local/lib/python3.6/dist-packages (from google-api-core[grpc]<2.0.0dev,>=1.14.0->google-cloud-automl) (2.21.0)\n",
            "Requirement already satisfied, skipping upgrade: pytz in /usr/local/lib/python3.6/dist-packages (from google-api-core[grpc]<2.0.0dev,>=1.14.0->google-cloud-automl) (2018.9)\n",
            "Requirement already satisfied, skipping upgrade: grpcio<2.0dev,>=1.8.2; extra == \"grpc\" in /usr/local/lib/python3.6/dist-packages (from google-api-core[grpc]<2.0.0dev,>=1.14.0->google-cloud-automl) (1.15.0)\n",
            "Requirement already satisfied, skipping upgrade: cachetools>=2.0.0 in /usr/local/lib/python3.6/dist-packages (from google-auth<2.0dev,>=0.4.0->google-api-core[grpc]<2.0.0dev,>=1.14.0->google-cloud-automl) (3.1.1)\n",
            "Requirement already satisfied, skipping upgrade: rsa>=3.1.4 in /usr/local/lib/python3.6/dist-packages (from google-auth<2.0dev,>=0.4.0->google-api-core[grpc]<2.0.0dev,>=1.14.0->google-cloud-automl) (4.0)\n",
            "Requirement already satisfied, skipping upgrade: pyasn1-modules>=0.2.1 in /usr/local/lib/python3.6/dist-packages (from google-auth<2.0dev,>=0.4.0->google-api-core[grpc]<2.0.0dev,>=1.14.0->google-cloud-automl) (0.2.7)\n",
            "Requirement already satisfied, skipping upgrade: urllib3<1.25,>=1.21.1 in /usr/local/lib/python3.6/dist-packages (from requests<3.0.0dev,>=2.18.0->google-api-core[grpc]<2.0.0dev,>=1.14.0->google-cloud-automl) (1.24.3)\n",
            "Requirement already satisfied, skipping upgrade: certifi>=2017.4.17 in /usr/local/lib/python3.6/dist-packages (from requests<3.0.0dev,>=2.18.0->google-api-core[grpc]<2.0.0dev,>=1.14.0->google-cloud-automl) (2019.9.11)\n",
            "Requirement already satisfied, skipping upgrade: idna<2.9,>=2.5 in /usr/local/lib/python3.6/dist-packages (from requests<3.0.0dev,>=2.18.0->google-api-core[grpc]<2.0.0dev,>=1.14.0->google-cloud-automl) (2.8)\n",
            "Requirement already satisfied, skipping upgrade: chardet<3.1.0,>=3.0.2 in /usr/local/lib/python3.6/dist-packages (from requests<3.0.0dev,>=2.18.0->google-api-core[grpc]<2.0.0dev,>=1.14.0->google-cloud-automl) (3.0.4)\n",
            "Requirement already satisfied, skipping upgrade: pyasn1>=0.1.3 in /usr/local/lib/python3.6/dist-packages (from rsa>=3.1.4->google-auth<2.0dev,>=0.4.0->google-api-core[grpc]<2.0.0dev,>=1.14.0->google-cloud-automl) (0.4.7)\n",
            "Installing collected packages: google-cloud-automl\n",
            "Successfully installed google-cloud-automl-0.7.1\n"
          ],
          "name": "stdout"
        },
        {
          "output_type": "display_data",
          "data": {
            "application/vnd.colab-display-data+json": {
              "pip_warning": {
                "packages": [
                  "google"
                ]
              }
            }
          },
          "metadata": {
            "tags": []
          }
        },
        {
          "output_type": "stream",
          "text": [
            "\u001b[31mERROR: Could not find a version that satisfies the requirement google.cloud.automl_v1beta1.proto (from versions: none)\u001b[0m\n",
            "\u001b[31mERROR: No matching distribution found for google.cloud.automl_v1beta1.proto\u001b[0m\n"
          ],
          "name": "stdout"
        }
      ]
    },
    {
      "cell_type": "code",
      "metadata": {
        "id": "bTFNI3SFTn1A",
        "colab_type": "code",
        "outputId": "04396767-d572-409d-9bdb-ae71226bbf57",
        "colab": {
          "base_uri": "https://localhost:8080/",
          "height": 122
        }
      },
      "source": [
        "from google.colab import drive\n",
        "drive.mount('/content/drive')"
      ],
      "execution_count": 0,
      "outputs": [
        {
          "output_type": "stream",
          "text": [
            "Go to this URL in a browser: https://accounts.google.com/o/oauth2/auth?client_id=947318989803-6bn6qk8qdgf4n4g3pfee6491hc0brc4i.apps.googleusercontent.com&redirect_uri=urn%3Aietf%3Awg%3Aoauth%3A2.0%3Aoob&scope=email%20https%3A%2F%2Fwww.googleapis.com%2Fauth%2Fdocs.test%20https%3A%2F%2Fwww.googleapis.com%2Fauth%2Fdrive%20https%3A%2F%2Fwww.googleapis.com%2Fauth%2Fdrive.photos.readonly%20https%3A%2F%2Fwww.googleapis.com%2Fauth%2Fpeopleapi.readonly&response_type=code\n",
            "\n",
            "Enter your authorization code:\n",
            "··········\n",
            "Mounted at /content/drive\n"
          ],
          "name": "stdout"
        }
      ]
    },
    {
      "cell_type": "code",
      "metadata": {
        "id": "0Xva1aj38pzQ",
        "colab_type": "code",
        "colab": {}
      },
      "source": [
        "!wget https://automl.googleapis.com/v1beta1/projects/centering-valve-254400/locations/us-central1/models/ICN4825722246822910634:predict -d @request.json"
      ],
      "execution_count": 0,
      "outputs": []
    },
    {
      "cell_type": "code",
      "metadata": {
        "id": "R2LAd7NVAJwr",
        "colab_type": "code",
        "colab": {}
      },
      "source": [
        "import os\n",
        "from google.cloud.bigquery.client import Client\n",
        "\n",
        "os.environ['GOOGLE_APPLICATION_CREDENTIALS'] = '/content/My Project 31992-d8fb83b1dfc0.json'\n",
        "bq_client = Client()"
      ],
      "execution_count": 0,
      "outputs": []
    },
    {
      "cell_type": "code",
      "metadata": {
        "id": "rPN1iJbC59Jw",
        "colab_type": "code",
        "outputId": "7b55b624-90d6-4db5-e41f-4e58d2069724",
        "colab": {
          "base_uri": "https://localhost:8080/",
          "height": 969
        }
      },
      "source": [
        "from google.cloud import automl_v1beta1\n",
        "from google.cloud.automl_v1beta1.proto import service_pb2\n",
        "\n",
        "\n",
        "def get_prediction(content, project_id, model_id):\n",
        "  prediction_client = automl_v1beta1.PredictionServiceClient()\n",
        "\n",
        "  name = 'projects/{}/locations/us-central1/models/{}'.format(project_id, model_id)\n",
        "  payload = {'image': {'image_bytes': content }}\n",
        "  params = {}\n",
        "  request = prediction_client.predict(name, payload, params)\n",
        "  return request  # waits till request is returned\n",
        "\n",
        "if __name__ == '__main__':\n",
        "  project_id = \"centering-valve-254400\"\n",
        "  model_id = \"ICN4825722246822910634\"\n",
        "  str = \"HACKNJIT\"\n",
        "  for i in str:\n",
        "    file_path = i+\"_test.jpg\"\n",
        "  \n",
        "    with open(file_path, 'rb') as ff:\n",
        "      content = ff.read()\n",
        "      #print(content)\n",
        "    print(get_prediction(content, project_id,  model_id))\n",
        "    x=(get_prediction(content, project_id,  model_id))\n",
        "\n"
      ],
      "execution_count": 0,
      "outputs": [
        {
          "output_type": "stream",
          "text": [
            "payload {\n",
            "  classification {\n",
            "    score: 0.9999790191650391\n",
            "  }\n",
            "  display_name: \"H\"\n",
            "}\n",
            "\n",
            "payload {\n",
            "  classification {\n",
            "    score: 0.6226140260696411\n",
            "  }\n",
            "  display_name: \"A\"\n",
            "}\n",
            "\n",
            "payload {\n",
            "  classification {\n",
            "    score: 0.9999110102653503\n",
            "  }\n",
            "  display_name: \"C\"\n",
            "}\n",
            "\n",
            "payload {\n",
            "  classification {\n",
            "    score: 0.9988769888877869\n",
            "  }\n",
            "  display_name: \"K\"\n",
            "}\n",
            "\n",
            "payload {\n",
            "  classification {\n",
            "    score: 1.0\n",
            "  }\n",
            "  display_name: \"N\"\n",
            "}\n",
            "\n",
            "payload {\n",
            "  classification {\n",
            "    score: 0.9971410036087036\n",
            "  }\n",
            "  display_name: \"J\"\n",
            "}\n",
            "\n",
            "payload {\n",
            "  classification {\n",
            "    score: 0.9988200068473816\n",
            "  }\n",
            "  display_name: \"I\"\n",
            "}\n",
            "\n",
            "payload {\n",
            "  classification {\n",
            "    score: 0.9974460005760193\n",
            "  }\n",
            "  display_name: \"T\"\n",
            "}\n",
            "\n"
          ],
          "name": "stdout"
        }
      ]
    }
  ]
}